{
  "cells": [
    {
      "cell_type": "code",
      "execution_count": 1,
      "metadata": {},
      "outputs": [
        {
          "name": "stdout",
          "output_type": "stream",
          "text": [
            "label\n",
            "0     639\n",
            "1     137\n",
            "2      91\n",
            "3      16\n",
            "4     254\n",
            "6     526\n",
            "7       3\n",
            "13    243\n",
            "Name: file_name, dtype: int64\n"
          ]
        }
      ],
      "source": [
        "import os\n",
        "import pandas as pd\n",
        "from pathlib import Path\n",
        "import shutil\n",
        "from tqdm import tqdm\n",
        "\n",
        "dataset = pd.DataFrame()\n",
        "for file in (x for x in os.listdir(\"./annotations\") if os.path.isfile(f\"./annotations/{x}\")):\n",
        "    dataset = dataset.append(pd.read_csv(f'./annotations/{file}', names=[\"file_name\", \"label\"], delimiter=\"\\t\"), ignore_index=True)\n",
        "# Get the different classes\n",
        "classes = pd.read_csv(\"./classes.txt\",names=[\"label\",\"classes\"])\n",
        "dataset = dataset.merge(classes, how=\"inner\")\n",
        "\n"
      ]
    },
    {
      "cell_type": "code",
      "execution_count": 2,
      "metadata": {},
      "outputs": [
        {
          "name": "stdout",
          "output_type": "stream",
          "text": [
            "   label  file_name                        classes\n",
            "0      0        639                      Camminare\n",
            "1      1        137                    Scatta foto\n",
            "2      2         91                    Tocca Opera\n",
            "3      3         16       Attraversa limite stanza\n",
            "4      4        254                          Parla\n",
            "5      6        526                 Nessuna azione\n",
            "6      7          3  Interazione anomala con opera\n",
            "7     13        243                         Seduto\n"
          ]
        }
      ],
      "source": [
        "print(pd.merge(dataset.groupby(\"label\").count()[\"file_name\"],classes, on=\"label\"))"
      ]
    },
    {
      "cell_type": "code",
      "execution_count": 3,
      "metadata": {},
      "outputs": [
        {
          "name": "stdout",
          "output_type": "stream",
          "text": [
            "   label  file_name                        classes\n",
            "0      0      33.47                      Camminare\n",
            "1      1       7.18                    Scatta foto\n",
            "2      2       4.77                    Tocca Opera\n",
            "3      3       0.84       Attraversa limite stanza\n",
            "4      4      13.31                          Parla\n",
            "5      6      27.55                 Nessuna azione\n",
            "6      7       0.16  Interazione anomala con opera\n",
            "7     13      12.73                         Seduto\n"
          ]
        }
      ],
      "source": [
        "print(pd.merge(dataset.groupby(\"label\").apply(lambda x: round(x[\"file_name\"].count()/dataset.count() * 100,2))[\"file_name\"],classes, on=\"label\"))"
      ]
    }
  ],
  "metadata": {
    "colab": {
      "provenance": []
    },
    "kernelspec": {
      "display_name": "Python 3.7.13 ('adip')",
      "language": "python",
      "name": "python3"
    },
    "language_info": {
      "codemirror_mode": {
        "name": "ipython",
        "version": 3
      },
      "file_extension": ".py",
      "mimetype": "text/x-python",
      "name": "python",
      "nbconvert_exporter": "python",
      "pygments_lexer": "ipython3",
      "version": "3.7.13"
    },
    "vscode": {
      "interpreter": {
        "hash": "ec2e921796c9d27725310297966a730aceb43679143d04ddc7c2d1a60b2766db"
      }
    }
  },
  "nbformat": 4,
  "nbformat_minor": 0
}
