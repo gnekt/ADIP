{
  "cells": [
    {
      "cell_type": "code",
      "execution_count": null,
      "metadata": {
        "id": "i1UeuA0ukE6t"
      },
      "outputs": [],
      "source": [
        "# LAUNCH THIS (once at the beginning)\n",
        "\n",
        "import os\n",
        "import pandas as pd\n",
        "from pathlib import Path\n",
        "import shutil\n",
        "from tqdm import tqdm"
      ]
    },
    {
      "cell_type": "markdown",
      "metadata": {
        "id": "7LqHGkGEVqpm"
      },
      "source": [
        "## Install MMAction2"
      ]
    },
    {
      "cell_type": "code",
      "execution_count": null,
      "metadata": {
        "colab": {
          "base_uri": "https://localhost:8080/"
        },
        "id": "Bf8PpPXtVvmg",
        "outputId": "b679a1b0-5e3c-44c0-8d69-25996e094629"
      },
      "outputs": [
        {
          "name": "stdout",
          "output_type": "stream",
          "text": [
            "nvcc: NVIDIA (R) Cuda compiler driver\n",
            "Copyright (c) 2005-2020 NVIDIA Corporation\n",
            "Built on Mon_Oct_12_20:09:46_PDT_2020\n",
            "Cuda compilation tools, release 11.1, V11.1.105\n",
            "Build cuda_11.1.TC455_06.29190527_0\n",
            "gcc (Ubuntu 7.5.0-3ubuntu1~18.04) 7.5.0\n",
            "Copyright (C) 2017 Free Software Foundation, Inc.\n",
            "This is free software; see the source for copying conditions.  There is NO\n",
            "warranty; not even for MERCHANTABILITY or FITNESS FOR A PARTICULAR PURPOSE.\n",
            "\n"
          ]
        }
      ],
      "source": [
        "# Check nvcc version\n",
        "!nvcc -V\n",
        "# Check GCC version\n",
        "!gcc --version"
      ]
    },
    {
      "cell_type": "code",
      "execution_count": 1,
      "metadata": {
        "colab": {
          "base_uri": "https://localhost:8080/",
          "height": 391
        },
        "id": "No_zZAFpWC-a",
        "outputId": "ff7d6457-9904-4a47-83fa-4534e267db2d"
      },
      "outputs": [
        {
          "name": "stderr",
          "output_type": "stream",
          "text": [
            "/media/users/dimaio/miniconda3/envs/adip/lib/python3.7/site-packages/tqdm/auto.py:22: TqdmWarning: IProgress not found. Please update jupyter and ipywidgets. See https://ipywidgets.readthedocs.io/en/stable/user_install.html\n",
            "  from .autonotebook import tqdm as notebook_tqdm\n"
          ]
        },
        {
          "name": "stdout",
          "output_type": "stream",
          "text": [
            "1.9.0+cu111 True\n",
            "0.24.1\n",
            "11.1\n",
            "GCC 7.3\n"
          ]
        }
      ],
      "source": [
        "# # LAUNCH THIS (once at the beginning to check installation of tools; if it fails run the cell above)\n",
        "\n",
        "# Check Pytorch installation\n",
        "import torch, torchvision\n",
        "print(torch.__version__, torch.cuda.is_available())\n",
        "\n",
        "# Check MMAction2 installation\n",
        "import mmaction\n",
        "print(mmaction.__version__)\n",
        "\n",
        "# Check MMCV installation\n",
        "from mmcv.ops import get_compiling_cuda_version, get_compiler_version\n",
        "print(get_compiling_cuda_version())\n",
        "print(get_compiler_version())"
      ]
    },
    {
      "cell_type": "markdown",
      "metadata": {
        "id": "pXf7oV5DWdab"
      },
      "source": [
        "## Perform inference with a MMAction2 recognizer\n",
        "MMAction2 already provides high level APIs to do inference and training."
      ]
    },
    {
      "cell_type": "code",
      "execution_count": 27,
      "metadata": {
        "colab": {
          "base_uri": "https://localhost:8080/"
        },
        "id": "HNZB7NoSabzj",
        "outputId": "6912c569-9913-42ab-a6e5-7eb9d82491de"
      },
      "outputs": [
        {
          "name": "stderr",
          "output_type": "stream",
          "text": [
            "/media/users/dimaio/miniconda3/envs/adip/lib/python3.7/site-packages/tqdm/auto.py:22: TqdmWarning: IProgress not found. Please update jupyter and ipywidgets. See https://ipywidgets.readthedocs.io/en/stable/user_install.html\n",
            "  from .autonotebook import tqdm as notebook_tqdm\n"
          ]
        },
        {
          "name": "stdout",
          "output_type": "stream",
          "text": [
            "load checkpoint from local path: /media/users/nunziati/adip/experiments/exp05_ircsn_adam_bal/best_top1_acc_epoch_35.pth\n"
          ]
        }
      ],
      "source": [
        "from mmaction.apis import inference_recognizer, init_recognizer\n",
        "from config import get_config\n",
        "\n",
        "# Choose to use a config and initialize the recognizer\n",
        "config = get_config()\n",
        "# Setup a checkpoint file to load\n",
        "checkpoint = '/media/users/nunziati/adip/experiments/exp05_ircsn_adam_bal/best_top1_acc_epoch_35.pth'\n",
        "# Initialize the recognizer\n",
        "model = init_recognizer(config, checkpoint, device='cuda:0')"
      ]
    },
    {
      "cell_type": "code",
      "execution_count": 29,
      "metadata": {
        "colab": {
          "base_uri": "https://localhost:8080/"
        },
        "id": "rEMsBnpHapAn",
        "outputId": "6fab71a8-b3dd-4ebd-8001-da31ad2b82c4"
      },
      "outputs": [
        {
          "name": "stdout",
          "output_type": "stream",
          "text": [
            "   id  probability                           name\n",
            "0   2     0.663048                    Tocca Opera\n",
            "1   6     0.326425                 Nessuna azione\n",
            "2   3     0.009304       Attraversa limite stanza\n",
            "3   1     0.001099                    Scatta foto\n",
            "4   7     0.000046  Interazione anomala con opera\n"
          ]
        }
      ],
      "source": [
        "# Use the recognizer to do inference\n",
        "import pandas as pd\n",
        "labels = pd.read_csv(\"classes.txt\", sep=\",\", names=[\"id\",\"name\"])\n",
        "video = '/media/users/nunziati/adip/test/125544_18.mp4'\n",
        "results = inference_recognizer(model, video)\n",
        "resultsD = pd.DataFrame(results, columns=[\"id\",\"probability\"])\n",
        "print(pd.merge(resultsD,labels, on=\"id\"))"
      ]
    },
    {
      "cell_type": "code",
      "execution_count": 24,
      "metadata": {},
      "outputs": [
        {
          "data": {
            "text/html": [
              "\n",
              "    <video alt=\"test\" controls>\n",
              "        <source src=\"Video_Pool/125544_18.mp4\" type=\"video/mp4\">\n",
              "    </video>\n"
            ],
            "text/plain": [
              "<IPython.core.display.HTML object>"
            ]
          },
          "execution_count": 24,
          "metadata": {},
          "output_type": "execute_result"
        }
      ],
      "source": [
        "from IPython.display import HTML\n",
        "\n",
        "HTML(\"\"\"\n",
        "    <video alt=\"test\" controls>\n",
        "        <source src=\"Video_Pool/125544_18.mp4\" type=\"video/mp4\">\n",
        "    </video>\n",
        "\"\"\")"
      ]
    },
    {
      "cell_type": "code",
      "execution_count": 30,
      "metadata": {},
      "outputs": [
        {
          "name": "stdout",
          "output_type": "stream",
          "text": [
            "   id  probability                      name\n",
            "0   2     0.639747               Tocca Opera\n",
            "1   6     0.270226            Nessuna azione\n",
            "2   4     0.061083                     Parla\n",
            "3   0     0.009858                 Camminare\n",
            "4   3     0.009713  Attraversa limite stanza\n"
          ]
        }
      ],
      "source": [
        "\n",
        "import pandas as pd\n",
        "labels = pd.read_csv(\"classes.txt\", sep=\",\", names=[\"id\",\"name\"])\n",
        "video = '/media/users/nunziati/adip/test/120702_10.mp4'\n",
        "results = inference_recognizer(model, video)\n",
        "resultsD = pd.DataFrame(results, columns=[\"id\",\"probability\"])\n",
        "print(pd.merge(resultsD,labels, on=\"id\"))"
      ]
    },
    {
      "cell_type": "code",
      "execution_count": 31,
      "metadata": {},
      "outputs": [
        {
          "data": {
            "text/html": [
              "\n",
              "    <video alt=\"test\" controls>\n",
              "        <source src=\"Video_Pool/120702_10.mp4\" type=\"video/mp4\">\n",
              "    </video>\n"
            ],
            "text/plain": [
              "<IPython.core.display.HTML object>"
            ]
          },
          "execution_count": 31,
          "metadata": {},
          "output_type": "execute_result"
        }
      ],
      "source": [
        "from IPython.display import HTML\n",
        "\n",
        "HTML(\"\"\"\n",
        "    <video alt=\"test\" controls>\n",
        "        <source src=\"Video_Pool/120702_10.mp4\" type=\"video/mp4\">\n",
        "    </video>\n",
        "\"\"\")\n"
      ]
    }
  ],
  "metadata": {
    "colab": {
      "provenance": []
    },
    "kernelspec": {
      "display_name": "Python 3.7.13 ('adip')",
      "language": "python",
      "name": "python3"
    },
    "language_info": {
      "codemirror_mode": {
        "name": "ipython",
        "version": 3
      },
      "file_extension": ".py",
      "mimetype": "text/x-python",
      "name": "python",
      "nbconvert_exporter": "python",
      "pygments_lexer": "ipython3",
      "version": "3.7.13"
    },
    "vscode": {
      "interpreter": {
        "hash": "ec2e921796c9d27725310297966a730aceb43679143d04ddc7c2d1a60b2766db"
      }
    }
  },
  "nbformat": 4,
  "nbformat_minor": 0
}
